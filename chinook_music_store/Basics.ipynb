{
 "cells": [
  {
   "cell_type": "markdown",
   "metadata": {
    "collapsed": true
   },
   "source": [
    "# Chinook Music Store\n",
    "\n",
    "This is an analysis of a fake music store and answering from busines questions.\n",
    "\n",
    "See chinook-schema.png for the database schema."
   ]
  },
  {
   "cell_type": "markdown",
   "metadata": {},
   "source": [
    "## Basic setup"
   ]
  },
  {
   "cell_type": "code",
   "execution_count": 1,
   "metadata": {
    "collapsed": false
   },
   "outputs": [
    {
     "name": "stdout",
     "output_type": "stream",
     "text": [
      "              name   type\n",
      "0            album  table\n",
      "1           artist  table\n",
      "2         customer  table\n",
      "3         employee  table\n",
      "4            genre  table\n",
      "5          invoice  table\n",
      "6     invoice_line  table\n",
      "7       media_type  table\n",
      "8         playlist  table\n",
      "9   playlist_track  table\n",
      "10           track  table\n",
      "11  cust_countries   view\n"
     ]
    }
   ],
   "source": [
    "import sqlite3\n",
    "import pandas as pd\n",
    "import matplotlib.pyplot as plt\n",
    "import matplotlib\n",
    "%matplotlib inline\n",
    "db = 'chinook.db'\n",
    "\n",
    "def run_query(q,idx=None):\n",
    "    with sqlite3.connect(db) as conn:\n",
    "        return pd.read_sql(q, conn, index_col=idx)\n",
    "\n",
    "def run_command(c):\n",
    "    with sqlite3.connect(db) as conn:\n",
    "        conn.isolation_level = None\n",
    "        conn.execute(c)\n",
    "    \n",
    "def show_tables():\n",
    "    q = 'SELECT \\\n",
    "    name, \\\n",
    "    type \\\n",
    "FROM sqlite_master \\\n",
    "WHERE type IN (\"table\",\"view\");'\n",
    "    return run_query(q)\n",
    "\n",
    "print(show_tables())"
   ]
  },
  {
   "cell_type": "code",
   "execution_count": 2,
   "metadata": {
    "collapsed": false
   },
   "outputs": [
    {
     "name": "stdout",
     "output_type": "stream",
     "text": [
      "                    genre_num  genre_per\n",
      "genre                                   \n",
      "Rock                      561      0.534\n",
      "Alternative & Punk        130      0.124\n",
      "Metal                     124      0.118\n",
      "R&B/Soul                   53      0.050\n",
      "Blues                      36      0.034\n",
      "Alternative                35      0.033\n",
      "Latin                      22      0.021\n",
      "Pop                        22      0.021\n",
      "Hip Hop/Rap                20      0.019\n",
      "Jazz                       14      0.013\n",
      "Easy Listening             13      0.012\n",
      "Reggae                      6      0.006\n",
      "Electronica/Dance           5      0.005\n",
      "Classical                   4      0.004\n",
      "Heavy Metal                 3      0.003\n",
      "Soundtrack                  2      0.002\n",
      "TV Shows                    1      0.001\n"
     ]
    }
   ],
   "source": [
    "q = '''WITH genres AS\n",
    "    (\n",
    "    SELECT\n",
    "        g.genre_id,\n",
    "        t.track_id,\n",
    "        g.name\n",
    "    FROM genre g\n",
    "    INNER JOIN track t ON t.genre_id = g.genre_id\n",
    "    ),\n",
    "    usa_track_total AS\n",
    "    (\n",
    "    SELECT\n",
    "        SUM(il.quantity) all_track_total\n",
    "    FROM invoice_line il\n",
    "    INNER JOIN track t ON t.track_id = il.track_id\n",
    "    INNER JOIN invoice i ON i.invoice_id = il.invoice_id\n",
    "    WHERE i.billing_country = \"USA\"\n",
    "    ),\n",
    "    usa_track_cost_total AS\n",
    "    (\n",
    "    SELECT\n",
    "        il.track_id,\n",
    "        SUM(il.unit_price * il.quantity) track_total\n",
    "    FROM invoice_line il\n",
    "    INNER JOIN track t ON t.track_id = il.track_id\n",
    "    INNER JOIN invoicei  ON i.invoice_id = il.invoice_id\n",
    "    WHERE i.billing_country = \"USA\"\n",
    "    GROUP BY track_id\n",
    "    ),\n",
    "    usa_track_num_total AS\n",
    "    (\n",
    "    SELECT\n",
    "        il.track_id,\n",
    "        SUM(il.quantity) track_total\n",
    "    FROM invoice_line il\n",
    "    INNER JOIN invoice i ON i.invoice_id = il.invoice_id\n",
    "    WHERE i.billing_country = \"USA\"\n",
    "    GROUP BY il.track_id\n",
    "    ),\n",
    "    genre_total AS\n",
    "    (\n",
    "    SELECT\n",
    "        g.genre_id,\n",
    "        SUM(utn.track_total) genre_total\n",
    "    FROM usa_track_num_total utn\n",
    "    INNER JOIN genres g ON g.track_id = utn.track_id\n",
    "    GROUP BY g.genre_id\n",
    "    )\n",
    "\n",
    "SELECT\n",
    "    g.name genre,\n",
    "    gt.genre_total genre_num,\n",
    "    ROUND(CAST(gt.genre_total AS FLOAT) / (SELECT all_track_total FROM usa_track_total), 3) genre_per\n",
    "FROM genre g\n",
    "INNER JOIN genre_total gt ON g.genre_id = gt.genre_id\n",
    "GROUP BY g.genre_id\n",
    "ORDER BY genre_num DESC\n",
    "'''\n",
    "genre_sales_usa = run_query(q, \"genre\")\n",
    "print(genre_sales_usa)"
   ]
  },
  {
   "cell_type": "code",
   "execution_count": 3,
   "metadata": {
    "collapsed": false
   },
   "outputs": [
    {
     "data": {
      "text/plain": [
       "<matplotlib.axes._subplots.AxesSubplot at 0x7fc1a357b320>"
      ]
     },
     "execution_count": 3,
     "metadata": {},
     "output_type": "execute_result"
    },
    {
     "data": {
      "image/png": "[encoded data removed]",
      "text/plain": [
       "<matplotlib.figure.Figure at 0x7fc1e4b786d8>"
      ]
     },
     "metadata": {},
     "output_type": "display_data"
    }
   ],
   "source": [
    "genre_sales_usa.loc[:,\"genre_num\"].plot.bar()"
   ]
  },
  {
   "cell_type": "markdown",
   "metadata": {},
   "source": [
    "From these results you can see the number of tracks sold per genre, with Rock being the highest and going down the list. If a list of artists were to be added to the store, the genres with the highest sales should be prioritized. In a hypothetical list including Hip-Hop, Punk, Pop, and Blues, the highest three artists to added would be those from genres Punk then Blues then Pop."
   ]
  },
  {
   "cell_type": "code",
   "execution_count": 4,
   "metadata": {
    "collapsed": false
   },
   "outputs": [
    {
     "name": "stdout",
     "output_type": "stream",
     "text": [
      "                         birthdate            hire_date  total_sales\n",
      "employee_name                                                       \n",
      "Jane Peacock   1973-08-29 00:00:00  2017-04-01 00:00:00      1731.51\n",
      "Margaret Park  1947-09-19 00:00:00  2017-05-03 00:00:00      1584.00\n",
      "Steve Johnson  1965-03-03 00:00:00  2017-10-17 00:00:00      1393.92\n"
     ]
    }
   ],
   "source": [
    "q = '''WITH customer_sum AS\n",
    "    (\n",
    "    SELECT \n",
    "        e.employee_id,\n",
    "        e.reports_to,\n",
    "        e.birthdate,\n",
    "        e.hire_date,\n",
    "        c.customer_id,\n",
    "        SUM(i.total) total_sales \n",
    "    FROM customer c\n",
    "    INNER JOIN invoice i ON i.customer_id = c.customer_id\n",
    "    INNER JOIN employee e ON e.employee_id = c.support_rep_id\n",
    "    GROUP BY e.employee_id\n",
    "    )\n",
    "\n",
    "SELECT \n",
    "    e.first_name || \" \" || e.last_name employee_name,\n",
    "    e.birthdate,\n",
    "    e.hire_date,\n",
    "    c.total_sales\n",
    "FROM employee e\n",
    "INNER JOIN customer_sum c ON c.employee_id = e.employee_id\n",
    "ORDER BY total_sales DESC\n",
    "'''\n",
    "employee_sales = run_query(q, \"employee_name\")\n",
    "print(employee_sales)"
   ]
  },
  {
   "cell_type": "code",
   "execution_count": 5,
   "metadata": {
    "collapsed": false
   },
   "outputs": [
    {
     "data": {
      "text/plain": [
       "<matplotlib.axes._subplots.AxesSubplot at 0x7fc1997a6940>"
      ]
     },
     "execution_count": 5,
     "metadata": {},
     "output_type": "execute_result"
    },
    {
     "data": {
      "image/png": "[encoded data removed]",
      "text/plain": [
       "<matplotlib.figure.Figure at 0x7fc1e53d1710>"
      ]
     },
     "metadata": {},
     "output_type": "display_data"
    }
   ],
   "source": [
    "employee_sales.loc[:,[\"total_sales\"]].plot.bar()"
   ]
  },
  {
   "cell_type": "markdown",
   "metadata": {},
   "source": [
    "From the last two pieces of information, we can see the ranking of employees based on the number of sales they made. This is in terms of the total purchases made by customers who had these employees assigned to them (at the first time the customer made a purchase).\n",
    "\n",
    "Checking the trend, this may be due to the fact that Jane Peacock has the most experience (earliest hire date). Being younger may also be a factor, though Steve Johnson has the lowest sales and is the second youngest. There's not enough data to determine if age is a factor."
   ]
  },
  {
   "cell_type": "markdown",
   "metadata": {},
   "source": [
    "## Sales data per country"
   ]
  },
  {
   "cell_type": "code",
   "execution_count": 6,
   "metadata": {
    "collapsed": false
   },
   "outputs": [
    {
     "ename": "OperationalError",
     "evalue": "table cust_countries already exists",
     "output_type": "error",
     "traceback": [
      "\u001b[1;31m\u001b[0m",
      "\u001b[1;31mOperationalError\u001b[0mTraceback (most recent call last)",
      "\u001b[1;32m<ipython-input-6-3ea5a71598f9>\u001b[0m in \u001b[0;36m<module>\u001b[1;34m()\u001b[0m\n\u001b[0;32m     11\u001b[0m      \u001b[0mORDER\u001b[0m \u001b[0mby\u001b[0m \u001b[1;36m2\u001b[0m \u001b[0mDESC\u001b[0m\u001b[1;33m;\u001b[0m\u001b[1;33m\u001b[0m\u001b[0m\n\u001b[0;32m     12\u001b[0m '''\n\u001b[1;32m---> 13\u001b[1;33m \u001b[0mrun_command\u001b[0m\u001b[1;33m(\u001b[0m\u001b[0mc\u001b[0m\u001b[1;33m)\u001b[0m\u001b[1;33m\u001b[0m\u001b[0m\n\u001b[0m",
      "\u001b[1;32m<ipython-input-1-50503251c820>\u001b[0m in \u001b[0;36mrun_command\u001b[1;34m(c)\u001b[0m\n\u001b[0;32m     13\u001b[0m     \u001b[1;32mwith\u001b[0m \u001b[0msqlite3\u001b[0m\u001b[1;33m.\u001b[0m\u001b[0mconnect\u001b[0m\u001b[1;33m(\u001b[0m\u001b[0mdb\u001b[0m\u001b[1;33m)\u001b[0m \u001b[1;32mas\u001b[0m \u001b[0mconn\u001b[0m\u001b[1;33m:\u001b[0m\u001b[1;33m\u001b[0m\u001b[0m\n\u001b[0;32m     14\u001b[0m         \u001b[0mconn\u001b[0m\u001b[1;33m.\u001b[0m\u001b[0misolation_level\u001b[0m \u001b[1;33m=\u001b[0m \u001b[1;32mNone\u001b[0m\u001b[1;33m\u001b[0m\u001b[0m\n\u001b[1;32m---> 15\u001b[1;33m         \u001b[0mconn\u001b[0m\u001b[1;33m.\u001b[0m\u001b[0mexecute\u001b[0m\u001b[1;33m(\u001b[0m\u001b[0mc\u001b[0m\u001b[1;33m)\u001b[0m\u001b[1;33m\u001b[0m\u001b[0m\n\u001b[0m\u001b[0;32m     16\u001b[0m \u001b[1;33m\u001b[0m\u001b[0m\n\u001b[0;32m     17\u001b[0m \u001b[1;32mdef\u001b[0m \u001b[0mshow_tables\u001b[0m\u001b[1;33m(\u001b[0m\u001b[1;33m)\u001b[0m\u001b[1;33m:\u001b[0m\u001b[1;33m\u001b[0m\u001b[0m\n",
      "\u001b[1;31mOperationalError\u001b[0m: table cust_countries already exists"
     ]
    }
   ],
   "source": [
    "c = '''\n",
    "CREATE VIEW cust_countries AS\n",
    "     SELECT\n",
    "         c.country,\n",
    "         count(c.customer_id) customer_count,\n",
    "         sum(i.total) customer_total,\n",
    "         count(i.invoice_id) invoice_count\n",
    "     FROM customer c\n",
    "     INNER JOIN invoice i ON c.customer_id = i.customer_id\n",
    "     GROUP by 1\n",
    "     ORDER by 2 DESC;\n",
    "'''\n",
    "run_command(c)"
   ]
  },
  {
   "cell_type": "code",
   "execution_count": 7,
   "metadata": {
    "collapsed": true
   },
   "outputs": [],
   "source": [
    "#Uncomment if need to drop view\n",
    "#c = '''\n",
    "#DROP VIEW cust_countries;\n",
    "#'''\n",
    "#run_command(c)"
   ]
  },
  {
   "cell_type": "code",
   "execution_count": 8,
   "metadata": {
    "collapsed": false
   },
   "outputs": [
    {
     "data": {
      "text/html": [
       "<div>\n",
       "<style scoped>\n",
       "    .dataframe tbody tr th:only-of-type {\n",
       "        vertical-align: middle;\n",
       "    }\n",
       "\n",
       "    .dataframe tbody tr th {\n",
       "        vertical-align: top;\n",
       "    }\n",
       "\n",
       "    .dataframe thead th {\n",
       "        text-align: right;\n",
       "    }\n",
       "</style>\n",
       "<table border=\"1\" class=\"dataframe\">\n",
       "  <thead>\n",
       "    <tr style=\"text-align: right;\">\n",
       "      <th></th>\n",
       "      <th>country</th>\n",
       "      <th>customers_count</th>\n",
       "      <th>customers_sales_total</th>\n",
       "      <th>avg_sales_customer</th>\n",
       "      <th>avg_order_value</th>\n",
       "    </tr>\n",
       "  </thead>\n",
       "  <tbody>\n",
       "    <tr>\n",
       "      <th>0</th>\n",
       "      <td>USA</td>\n",
       "      <td>131</td>\n",
       "      <td>1040.49</td>\n",
       "      <td>7.94</td>\n",
       "      <td>7.94</td>\n",
       "    </tr>\n",
       "    <tr>\n",
       "      <th>1</th>\n",
       "      <td>Canada</td>\n",
       "      <td>76</td>\n",
       "      <td>535.59</td>\n",
       "      <td>7.05</td>\n",
       "      <td>7.05</td>\n",
       "    </tr>\n",
       "    <tr>\n",
       "      <th>2</th>\n",
       "      <td>Brazil</td>\n",
       "      <td>61</td>\n",
       "      <td>427.68</td>\n",
       "      <td>7.01</td>\n",
       "      <td>7.01</td>\n",
       "    </tr>\n",
       "    <tr>\n",
       "      <th>3</th>\n",
       "      <td>France</td>\n",
       "      <td>50</td>\n",
       "      <td>389.07</td>\n",
       "      <td>7.78</td>\n",
       "      <td>7.78</td>\n",
       "    </tr>\n",
       "    <tr>\n",
       "      <th>4</th>\n",
       "      <td>Germany</td>\n",
       "      <td>41</td>\n",
       "      <td>334.62</td>\n",
       "      <td>8.16</td>\n",
       "      <td>8.16</td>\n",
       "    </tr>\n",
       "    <tr>\n",
       "      <th>5</th>\n",
       "      <td>Czech Republic</td>\n",
       "      <td>30</td>\n",
       "      <td>273.24</td>\n",
       "      <td>9.11</td>\n",
       "      <td>9.11</td>\n",
       "    </tr>\n",
       "    <tr>\n",
       "      <th>6</th>\n",
       "      <td>United Kingdom</td>\n",
       "      <td>28</td>\n",
       "      <td>245.52</td>\n",
       "      <td>8.77</td>\n",
       "      <td>8.77</td>\n",
       "    </tr>\n",
       "    <tr>\n",
       "      <th>7</th>\n",
       "      <td>Portugal</td>\n",
       "      <td>29</td>\n",
       "      <td>185.13</td>\n",
       "      <td>6.38</td>\n",
       "      <td>6.38</td>\n",
       "    </tr>\n",
       "    <tr>\n",
       "      <th>8</th>\n",
       "      <td>India</td>\n",
       "      <td>21</td>\n",
       "      <td>183.15</td>\n",
       "      <td>8.72</td>\n",
       "      <td>8.72</td>\n",
       "    </tr>\n",
       "    <tr>\n",
       "      <th>9</th>\n",
       "      <td>Ireland</td>\n",
       "      <td>13</td>\n",
       "      <td>114.84</td>\n",
       "      <td>8.83</td>\n",
       "      <td>8.83</td>\n",
       "    </tr>\n",
       "    <tr>\n",
       "      <th>10</th>\n",
       "      <td>Spain</td>\n",
       "      <td>11</td>\n",
       "      <td>98.01</td>\n",
       "      <td>8.91</td>\n",
       "      <td>8.91</td>\n",
       "    </tr>\n",
       "    <tr>\n",
       "      <th>11</th>\n",
       "      <td>Chile</td>\n",
       "      <td>13</td>\n",
       "      <td>97.02</td>\n",
       "      <td>7.46</td>\n",
       "      <td>7.46</td>\n",
       "    </tr>\n",
       "    <tr>\n",
       "      <th>12</th>\n",
       "      <td>Australia</td>\n",
       "      <td>10</td>\n",
       "      <td>81.18</td>\n",
       "      <td>8.12</td>\n",
       "      <td>8.12</td>\n",
       "    </tr>\n",
       "    <tr>\n",
       "      <th>13</th>\n",
       "      <td>Finland</td>\n",
       "      <td>11</td>\n",
       "      <td>79.20</td>\n",
       "      <td>7.20</td>\n",
       "      <td>7.20</td>\n",
       "    </tr>\n",
       "    <tr>\n",
       "      <th>14</th>\n",
       "      <td>Hungary</td>\n",
       "      <td>10</td>\n",
       "      <td>78.21</td>\n",
       "      <td>7.82</td>\n",
       "      <td>7.82</td>\n",
       "    </tr>\n",
       "    <tr>\n",
       "      <th>15</th>\n",
       "      <td>Poland</td>\n",
       "      <td>10</td>\n",
       "      <td>76.23</td>\n",
       "      <td>7.62</td>\n",
       "      <td>7.62</td>\n",
       "    </tr>\n",
       "    <tr>\n",
       "      <th>16</th>\n",
       "      <td>Sweden</td>\n",
       "      <td>10</td>\n",
       "      <td>75.24</td>\n",
       "      <td>7.52</td>\n",
       "      <td>7.52</td>\n",
       "    </tr>\n",
       "    <tr>\n",
       "      <th>17</th>\n",
       "      <td>Norway</td>\n",
       "      <td>9</td>\n",
       "      <td>72.27</td>\n",
       "      <td>8.03</td>\n",
       "      <td>8.03</td>\n",
       "    </tr>\n",
       "    <tr>\n",
       "      <th>18</th>\n",
       "      <td>Austria</td>\n",
       "      <td>9</td>\n",
       "      <td>69.30</td>\n",
       "      <td>7.70</td>\n",
       "      <td>7.70</td>\n",
       "    </tr>\n",
       "    <tr>\n",
       "      <th>19</th>\n",
       "      <td>Netherlands</td>\n",
       "      <td>10</td>\n",
       "      <td>65.34</td>\n",
       "      <td>6.53</td>\n",
       "      <td>6.53</td>\n",
       "    </tr>\n",
       "    <tr>\n",
       "      <th>20</th>\n",
       "      <td>Belgium</td>\n",
       "      <td>7</td>\n",
       "      <td>60.39</td>\n",
       "      <td>8.63</td>\n",
       "      <td>8.63</td>\n",
       "    </tr>\n",
       "    <tr>\n",
       "      <th>21</th>\n",
       "      <td>Italy</td>\n",
       "      <td>9</td>\n",
       "      <td>50.49</td>\n",
       "      <td>5.61</td>\n",
       "      <td>5.61</td>\n",
       "    </tr>\n",
       "    <tr>\n",
       "      <th>22</th>\n",
       "      <td>Argentina</td>\n",
       "      <td>5</td>\n",
       "      <td>39.60</td>\n",
       "      <td>7.92</td>\n",
       "      <td>7.92</td>\n",
       "    </tr>\n",
       "    <tr>\n",
       "      <th>23</th>\n",
       "      <td>Denmark</td>\n",
       "      <td>10</td>\n",
       "      <td>37.62</td>\n",
       "      <td>3.76</td>\n",
       "      <td>3.76</td>\n",
       "    </tr>\n",
       "  </tbody>\n",
       "</table>\n",
       "</div>"
      ],
      "text/plain": [
       "           country  customers_count  customers_sales_total  \\\n",
       "0              USA              131                1040.49   \n",
       "1           Canada               76                 535.59   \n",
       "2           Brazil               61                 427.68   \n",
       "3           France               50                 389.07   \n",
       "4          Germany               41                 334.62   \n",
       "5   Czech Republic               30                 273.24   \n",
       "6   United Kingdom               28                 245.52   \n",
       "7         Portugal               29                 185.13   \n",
       "8            India               21                 183.15   \n",
       "9          Ireland               13                 114.84   \n",
       "10           Spain               11                  98.01   \n",
       "11           Chile               13                  97.02   \n",
       "12       Australia               10                  81.18   \n",
       "13         Finland               11                  79.20   \n",
       "14         Hungary               10                  78.21   \n",
       "15          Poland               10                  76.23   \n",
       "16          Sweden               10                  75.24   \n",
       "17          Norway                9                  72.27   \n",
       "18         Austria                9                  69.30   \n",
       "19     Netherlands               10                  65.34   \n",
       "20         Belgium                7                  60.39   \n",
       "21           Italy                9                  50.49   \n",
       "22       Argentina                5                  39.60   \n",
       "23         Denmark               10                  37.62   \n",
       "\n",
       "    avg_sales_customer  avg_order_value  \n",
       "0                 7.94             7.94  \n",
       "1                 7.05             7.05  \n",
       "2                 7.01             7.01  \n",
       "3                 7.78             7.78  \n",
       "4                 8.16             8.16  \n",
       "5                 9.11             9.11  \n",
       "6                 8.77             8.77  \n",
       "7                 6.38             6.38  \n",
       "8                 8.72             8.72  \n",
       "9                 8.83             8.83  \n",
       "10                8.91             8.91  \n",
       "11                7.46             7.46  \n",
       "12                8.12             8.12  \n",
       "13                7.20             7.20  \n",
       "14                7.82             7.82  \n",
       "15                7.62             7.62  \n",
       "16                7.52             7.52  \n",
       "17                8.03             8.03  \n",
       "18                7.70             7.70  \n",
       "19                6.53             6.53  \n",
       "20                8.63             8.63  \n",
       "21                5.61             5.61  \n",
       "22                7.92             7.92  \n",
       "23                3.76             3.76  "
      ]
     },
     "execution_count": 8,
     "metadata": {},
     "output_type": "execute_result"
    }
   ],
   "source": [
    "q = '''\n",
    "SELECT\n",
    "    country,\n",
    "    customer_count customers_count,\n",
    "    customer_total customers_sales_total,\n",
    "    ROUND(CAST(customer_total AS FLOAT) / customer_count, 2) avg_sales_customer,\n",
    "    ROUND(CAST(customer_total AS FLOAT) / invoice_count, 2) avg_order_value\n",
    "FROM\n",
    "    (\n",
    "    SELECT\n",
    "        cc.*,\n",
    "        CASE\n",
    "            WHEN cc.customer_count = 1 THEN 1\n",
    "            ELSE 0\n",
    "        END AS sort\n",
    "    FROM cust_countries cc\n",
    "   )\n",
    "ORDER BY customer_total DESC\n",
    "'''\n",
    "#cust_country = run_query(q, \"country\")\n",
    "cust_country = run_query(q)\n",
    "cust_country"
   ]
  },
  {
   "cell_type": "code",
   "execution_count": 23,
   "metadata": {
    "collapsed": false
   },
   "outputs": [
    {
     "data": {
      "image/png": "[encoded data removed]",
      "text/plain": [
       "<matplotlib.figure.Figure at 0x7fc1984a5dd8>"
      ]
     },
     "metadata": {},
     "output_type": "display_data"
    }
   ],
   "source": [
    "fig = plt.figure(figsize=(15,10))\n",
    "ax1 = fig.add_subplot(2,2,1)\n",
    "ax2 = fig.add_subplot(2,2,2)\n",
    "ax3 = fig.add_subplot(2,2,3)\n",
    "ax4 = fig.add_subplot(2,2,4)\n",
    "\n",
    "#Plot 1\n",
    "xrange=range(len(cust_country.loc[:,\"country\"]))\n",
    "ax1.bar(left=xrange, height=cust_country.loc[:,\"customers_count\"], \n",
    "        tick_label=cust_country.loc[:,\"country\"], align=\"edge\")\n",
    "ax1.set_title(\"Country vs Customer Count\")\n",
    "\n",
    "#Plot 2\n",
    "ax2.bar(left=xrange, height=cust_country.loc[:,\"customers_sales_total\"], \n",
    "        tick_label=cust_country.loc[:,\"country\"], align=\"edge\")\n",
    "ax2.set_title(\"Country vs Customer Sales Totals\")\n",
    "\n",
    "#Plot 3\n",
    "ax3.bar(left=xrange, height=cust_country.loc[:,\"avg_sales_customer\"], \n",
    "        tick_label=cust_country.loc[:,\"country\"], align=\"edge\")\n",
    "ax3.set_title(\"Country vs Average Sales Per Customer\")\n",
    "\n",
    "#Plot 4\n",
    "ax4.bar(left=xrange, height=cust_country.loc[:,\"avg_order_value\"], \n",
    "        tick_label=cust_country.loc[:,\"country\"], align=\"edge\")\n",
    "ax4.set_title(\"Country vs Average Order Value\")\n",
    "\n",
    "#Rotate tick labels\n",
    "for ax in fig.axes:\n",
    "    matplotlib.pyplot.sca(ax)\n",
    "    plt.xticks(rotation=90)\n",
    "\n",
    "#Set better spacing between subplots\n",
    "fig.tight_layout()\n",
    "\n",
    "#fig.show()"
   ]
  },
  {
   "cell_type": "markdown",
   "metadata": {
    "collapsed": true
   },
   "source": [
    "From the results, the countries to focus on for maximum customers and sales is USA, Canada, Brazil, France, Germany, etc. The average sales across customers and orders are similar, but the highest numbers of customers and total sales are from these countries."
   ]
  },
  {
   "cell_type": "markdown",
   "metadata": {},
   "source": [
    "## Percentage of invoices will full album purchases versus individual tracks of an album"
   ]
  },
  {
   "cell_type": "code",
   "execution_count": 35,
   "metadata": {
    "collapsed": false
   },
   "outputs": [
    {
     "data": {
      "text/html": [
       "<div>\n",
       "<style scoped>\n",
       "    .dataframe tbody tr th:only-of-type {\n",
       "        vertical-align: middle;\n",
       "    }\n",
       "\n",
       "    .dataframe tbody tr th {\n",
       "        vertical-align: top;\n",
       "    }\n",
       "\n",
       "    .dataframe thead th {\n",
       "        text-align: right;\n",
       "    }\n",
       "</style>\n",
       "<table border=\"1\" class=\"dataframe\">\n",
       "  <thead>\n",
       "    <tr style=\"text-align: right;\">\n",
       "      <th></th>\n",
       "      <th>number_invoices</th>\n",
       "      <th>percent_invoices_full_album</th>\n",
       "    </tr>\n",
       "  </thead>\n",
       "  <tbody>\n",
       "    <tr>\n",
       "      <th>0</th>\n",
       "      <td>614</td>\n",
       "      <td>0.19</td>\n",
       "    </tr>\n",
       "  </tbody>\n",
       "</table>\n",
       "</div>"
      ],
      "text/plain": [
       "   number_invoices  percent_invoices_full_album\n",
       "0              614                         0.19"
      ]
     },
     "execution_count": 35,
     "metadata": {},
     "output_type": "execute_result"
    }
   ],
   "source": [
    "q = '''\n",
    "WITH invoice_album AS\n",
    "    (\n",
    "    SELECT \n",
    "        i.invoice_id,\n",
    "        MAX(t.album_id) album_id\n",
    "    FROM invoice i\n",
    "    INNER JOIN invoice_line il ON i.invoice_id = il.invoice_id\n",
    "    INNER JOIN track t ON il.track_id = t.track_id\n",
    "    GROUP BY i.invoice_id\n",
    "    ),\n",
    "    full_album AS\n",
    "    (\n",
    "    SELECT\n",
    "        i.invoice_id,\n",
    "        CASE WHEN (SELECT il.track_id FROM invoice_line il INNER JOIN track t ON il.track_id = t.track_id WHERE il.invoice_id = i.invoice_id\n",
    "                   EXCEPT\n",
    "                   SELECT t.track_id FROM track t INNER JOIN album a ON t.album_id = a.album_id WHERE t.album_id = ia.album_id) IS NULL\n",
    "                   AND\n",
    "                   (SELECT t.track_id FROM track t INNER JOIN album a ON t.album_id = a.album_id WHERE t.album_id = ia.album_id\n",
    "                   EXCEPT\n",
    "                   SELECT il.track_id FROM invoice_line il INNER JOIN track t ON il.track_id = t.track_id WHERE il.invoice_id = i.invoice_id) IS NULL THEN 1\n",
    "             ELSE 0\n",
    "        END AS track_album_purchase\n",
    "    FROM invoice i\n",
    "    INNER JOIN invoice_album ia on ia.invoice_id = i.invoice_id\n",
    "    )\n",
    "\n",
    "SELECT\n",
    "    COUNT(invoice_id) number_invoices,\n",
    "    ROUND(SUM(track_album_purchase) / CAST(COUNT(invoice_id) AS FLOAT), 2) percent_invoices_full_album\n",
    "FROM full_album;\n",
    "'''\n",
    "invoices = run_query(q)\n",
    "invoices"
   ]
  },
  {
   "cell_type": "markdown",
   "metadata": {},
   "source": [
    "Based on the above, only about 19% of all invoices contain all the tracks for an album. All others only purchase individual tracks for a single album. This means that if the Chinook store switched to a business model of selling only individual tracks versus full albums, there would be significant cost savings since only a small percentage of invoices want full albums anyway."
   ]
  },
  {
   "cell_type": "code",
   "execution_count": null,
   "metadata": {
    "collapsed": true
   },
   "outputs": [],
   "source": []
  }
 ],
 "metadata": {
  "kernelspec": {
   "display_name": "Python 3",
   "language": "python",
   "name": "python3"
  },
  "language_info": {
   "codemirror_mode": {
    "name": "ipython",
    "version": 3
   },
   "file_extension": ".py",
   "mimetype": "text/x-python",
   "name": "python",
   "nbconvert_exporter": "python",
   "pygments_lexer": "ipython3",
   "version": "3.4.3"
  }
 },
 "nbformat": 4,
 "nbformat_minor": 2
}
